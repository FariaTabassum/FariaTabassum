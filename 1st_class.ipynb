{
  "nbformat": 4,
  "nbformat_minor": 0,
  "metadata": {
    "colab": {
      "name": "1st-class.ipynb",
      "provenance": [],
      "authorship_tag": "ABX9TyMA4Jf4uHQgYYBdABkNN1fS",
      "include_colab_link": true
    },
    "kernelspec": {
      "name": "python3",
      "display_name": "Python 3"
    },
    "language_info": {
      "name": "python"
    }
  },
  "cells": [
    {
      "cell_type": "markdown",
      "metadata": {
        "id": "view-in-github",
        "colab_type": "text"
      },
      "source": [
        "<a href=\"https://colab.research.google.com/github/FariaTabassum/Machine-learing-master-class/blob/main/1st_class.ipynb\" target=\"_parent\"><img src=\"https://colab.research.google.com/assets/colab-badge.svg\" alt=\"Open In Colab\"/></a>"
      ]
    },
    {
      "cell_type": "markdown",
      "source": [
        "## **Basic Python Programming**\n",
        "\n"
      ],
      "metadata": {
        "id": "hcSnLjI-xDIE"
      }
    },
    {
      "cell_type": "markdown",
      "source": [
        "### Arithmetic"
      ],
      "metadata": {
        "id": "TbhVSatTxg6c"
      }
    },
    {
      "cell_type": "code",
      "source": [
        "a=9\n",
        "b=10\n",
        "c=a+b\n",
        "print(c)"
      ],
      "metadata": {
        "colab": {
          "base_uri": "https://localhost:8080/"
        },
        "id": "Vt33YYPPxjdO",
        "outputId": "453cdca2-cf47-4457-84b3-589696b3da0c"
      },
      "execution_count": 1,
      "outputs": [
        {
          "output_type": "stream",
          "name": "stdout",
          "text": [
            "19\n"
          ]
        }
      ]
    },
    {
      "cell_type": "code",
      "source": [
        "d=a*b\n",
        "print(d)"
      ],
      "metadata": {
        "colab": {
          "base_uri": "https://localhost:8080/"
        },
        "id": "8hr8OCLrx72E",
        "outputId": "8711e68e-3f8e-48ce-973c-092941a38061"
      },
      "execution_count": 2,
      "outputs": [
        {
          "output_type": "stream",
          "name": "stdout",
          "text": [
            "90\n"
          ]
        }
      ]
    },
    {
      "cell_type": "markdown",
      "source": [
        "## If Else Elseif"
      ],
      "metadata": {
        "id": "6466_pdEyL_B"
      }
    },
    {
      "cell_type": "code",
      "source": [
        "a=9\n",
        "b=8\n",
        "if(a<b):\n",
        "  print('a is less then b')\n",
        "else:\n",
        "  print('a is greater then b')"
      ],
      "metadata": {
        "colab": {
          "base_uri": "https://localhost:8080/"
        },
        "id": "nkt1qkAIyVwp",
        "outputId": "08a59938-af1a-4bb4-a121-ca36723fe027"
      },
      "execution_count": 3,
      "outputs": [
        {
          "output_type": "stream",
          "name": "stdout",
          "text": [
            "a is greater then b\n"
          ]
        }
      ]
    },
    {
      "cell_type": "code",
      "source": [
        "a=9\n",
        "b=8\n",
        "c=9\n",
        "if(a<b):\n",
        "  print('a is less then b')\n",
        "elif(a==c):\n",
        "  print('a is equal to c')\n",
        "else:\n",
        "  print('a is greater then b')"
      ],
      "metadata": {
        "colab": {
          "base_uri": "https://localhost:8080/"
        },
        "outputId": "83d59e62-9552-427a-b241-24896ea55b67",
        "id": "n2wwap3jzDEu"
      },
      "execution_count": 4,
      "outputs": [
        {
          "output_type": "stream",
          "name": "stdout",
          "text": [
            "a is equal to c\n"
          ]
        }
      ]
    },
    {
      "cell_type": "code",
      "source": [
        "a=9\n",
        "b=8\n",
        "c=9\n",
        "if(a<b):\n",
        "  print('a is less then b')\n",
        "elif(a==c):\n",
        "  print('a is equal to c')\n",
        "  if(c<b):\n",
        "    print('c is less then b')\n",
        "  else:\n",
        "    print('c is greater then b')\n",
        "else:\n",
        "  print('a is greater then b')"
      ],
      "metadata": {
        "colab": {
          "base_uri": "https://localhost:8080/"
        },
        "outputId": "a53b498c-dcca-4312-8a70-4ab742d04c23",
        "id": "Wbdb6B5izo2S"
      },
      "execution_count": 7,
      "outputs": [
        {
          "output_type": "stream",
          "name": "stdout",
          "text": [
            "a is equal to c\n",
            "c is greater then b\n"
          ]
        }
      ]
    },
    {
      "cell_type": "markdown",
      "source": [
        "## While"
      ],
      "metadata": {
        "id": "-uV5_puL0pSj"
      }
    },
    {
      "cell_type": "code",
      "source": [
        "i=0\n",
        "while i<=10:\n",
        "  print(i)\n",
        "  i+=1"
      ],
      "metadata": {
        "colab": {
          "base_uri": "https://localhost:8080/"
        },
        "id": "TdFmPbbS0s_S",
        "outputId": "fc81909d-f882-443d-9c33-742f918fda29"
      },
      "execution_count": 8,
      "outputs": [
        {
          "output_type": "stream",
          "name": "stdout",
          "text": [
            "0\n",
            "1\n",
            "2\n",
            "3\n",
            "4\n",
            "5\n",
            "6\n",
            "7\n",
            "8\n",
            "9\n",
            "10\n"
          ]
        }
      ]
    },
    {
      "cell_type": "markdown",
      "source": [
        "## For & range"
      ],
      "metadata": {
        "id": "1gKWzuK_0-l7"
      }
    },
    {
      "cell_type": "code",
      "source": [
        "for i in range(5):\n",
        "  print(i)"
      ],
      "metadata": {
        "colab": {
          "base_uri": "https://localhost:8080/"
        },
        "id": "FOeLnFED081s",
        "outputId": "c89733f7-10e0-4f19-fd8c-b0e60d2a01a9"
      },
      "execution_count": 9,
      "outputs": [
        {
          "output_type": "stream",
          "name": "stdout",
          "text": [
            "0\n",
            "1\n",
            "2\n",
            "3\n",
            "4\n"
          ]
        }
      ]
    },
    {
      "cell_type": "code",
      "source": [
        "for i in range(2,5):\n",
        "  print(i)"
      ],
      "metadata": {
        "colab": {
          "base_uri": "https://localhost:8080/"
        },
        "outputId": "d5d24ade-86d0-4ed4-beb1-d98fe7f27375",
        "id": "QkGOHME01T4F"
      },
      "execution_count": 10,
      "outputs": [
        {
          "output_type": "stream",
          "name": "stdout",
          "text": [
            "2\n",
            "3\n",
            "4\n"
          ]
        }
      ]
    },
    {
      "cell_type": "code",
      "source": [
        "for i in range(2,10,2):\n",
        "  print(i)"
      ],
      "metadata": {
        "colab": {
          "base_uri": "https://localhost:8080/"
        },
        "id": "FkMdpMBR1cp7",
        "outputId": "fcb16d83-45dd-44fa-9c39-6d2edc13b44c"
      },
      "execution_count": 11,
      "outputs": [
        {
          "output_type": "stream",
          "name": "stdout",
          "text": [
            "2\n",
            "4\n",
            "6\n",
            "8\n"
          ]
        }
      ]
    },
    {
      "cell_type": "code",
      "source": [
        "for i in range(10,2,-1):\n",
        "  print(i)"
      ],
      "metadata": {
        "colab": {
          "base_uri": "https://localhost:8080/"
        },
        "id": "i9UnAHX81hAi",
        "outputId": "3db06e2d-369a-48b4-f8b6-0163f20942fc"
      },
      "execution_count": 14,
      "outputs": [
        {
          "output_type": "stream",
          "name": "stdout",
          "text": [
            "10\n",
            "9\n",
            "8\n",
            "7\n",
            "6\n",
            "5\n",
            "4\n",
            "3\n"
          ]
        }
      ]
    }
  ]
}